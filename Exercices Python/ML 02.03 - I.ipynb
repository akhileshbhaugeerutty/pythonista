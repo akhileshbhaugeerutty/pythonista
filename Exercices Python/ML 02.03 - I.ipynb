{
 "cells": [
  {
   "cell_type": "markdown",
   "metadata": {},
   "source": [
    "## <center> Akhilesh Bhaugeerutty & Magib Seck & Mouad Tai <b/>\n",
    "### <center> Exercices Python"
   ]
  },
  {
   "cell_type": "markdown",
   "metadata": {},
   "source": [
    "#### Exercices à rendre pour le 02/03: - Partie I\n",
    "Exercice 1 page 91 & Exercice 2 page 92."
   ]
  },
  {
   "cell_type": "markdown",
   "metadata": {},
   "source": [
    "#### Exercice 1:"
   ]
  },
  {
   "cell_type": "markdown",
   "metadata": {},
   "source": [
    "Nous allons aujourd'hui travailler sur des Forêts Aléatoires. Combinant plusieurs arbres de décision, elles sont réputées pour leur efficacité et précision.<br>\n",
    "Encore une fois, nous allons utiliser le dataframe **credit**, puis le diviser en échantillons de test/apprentissage. "
   ]
  },
  {
   "cell_type": "code",
   "execution_count": 115,
   "metadata": {},
   "outputs": [
    {
     "data": {
      "text/html": [
       "<div>\n",
       "<style scoped>\n",
       "    .dataframe tbody tr th:only-of-type {\n",
       "        vertical-align: middle;\n",
       "    }\n",
       "\n",
       "    .dataframe tbody tr th {\n",
       "        vertical-align: top;\n",
       "    }\n",
       "\n",
       "    .dataframe thead th {\n",
       "        text-align: right;\n",
       "    }\n",
       "</style>\n",
       "<table border=\"1\" class=\"dataframe\">\n",
       "  <thead>\n",
       "    <tr style=\"text-align: right;\">\n",
       "      <th></th>\n",
       "      <th>A2</th>\n",
       "      <th>A3</th>\n",
       "      <th>A8</th>\n",
       "      <th>A11</th>\n",
       "      <th>A14</th>\n",
       "      <th>A15</th>\n",
       "      <th>A1_a</th>\n",
       "      <th>A1_b</th>\n",
       "      <th>A4_l</th>\n",
       "      <th>A4_u</th>\n",
       "      <th>...</th>\n",
       "      <th>A9_f</th>\n",
       "      <th>A9_t</th>\n",
       "      <th>A10_f</th>\n",
       "      <th>A10_t</th>\n",
       "      <th>A12_f</th>\n",
       "      <th>A12_t</th>\n",
       "      <th>A13_g</th>\n",
       "      <th>A13_p</th>\n",
       "      <th>A13_s</th>\n",
       "      <th>A16</th>\n",
       "    </tr>\n",
       "  </thead>\n",
       "  <tbody>\n",
       "    <tr>\n",
       "      <th>0</th>\n",
       "      <td>30.83</td>\n",
       "      <td>0.000</td>\n",
       "      <td>1.25</td>\n",
       "      <td>1.0</td>\n",
       "      <td>202.0</td>\n",
       "      <td>0.0</td>\n",
       "      <td>0</td>\n",
       "      <td>1</td>\n",
       "      <td>0</td>\n",
       "      <td>1</td>\n",
       "      <td>...</td>\n",
       "      <td>0</td>\n",
       "      <td>1</td>\n",
       "      <td>0</td>\n",
       "      <td>1</td>\n",
       "      <td>1</td>\n",
       "      <td>0</td>\n",
       "      <td>1</td>\n",
       "      <td>0</td>\n",
       "      <td>0</td>\n",
       "      <td>+</td>\n",
       "    </tr>\n",
       "    <tr>\n",
       "      <th>1</th>\n",
       "      <td>58.67</td>\n",
       "      <td>4.460</td>\n",
       "      <td>3.04</td>\n",
       "      <td>6.0</td>\n",
       "      <td>43.0</td>\n",
       "      <td>560.0</td>\n",
       "      <td>1</td>\n",
       "      <td>0</td>\n",
       "      <td>0</td>\n",
       "      <td>1</td>\n",
       "      <td>...</td>\n",
       "      <td>0</td>\n",
       "      <td>1</td>\n",
       "      <td>0</td>\n",
       "      <td>1</td>\n",
       "      <td>1</td>\n",
       "      <td>0</td>\n",
       "      <td>1</td>\n",
       "      <td>0</td>\n",
       "      <td>0</td>\n",
       "      <td>+</td>\n",
       "    </tr>\n",
       "    <tr>\n",
       "      <th>2</th>\n",
       "      <td>24.50</td>\n",
       "      <td>0.500</td>\n",
       "      <td>1.50</td>\n",
       "      <td>0.0</td>\n",
       "      <td>280.0</td>\n",
       "      <td>824.0</td>\n",
       "      <td>1</td>\n",
       "      <td>0</td>\n",
       "      <td>0</td>\n",
       "      <td>1</td>\n",
       "      <td>...</td>\n",
       "      <td>0</td>\n",
       "      <td>1</td>\n",
       "      <td>1</td>\n",
       "      <td>0</td>\n",
       "      <td>1</td>\n",
       "      <td>0</td>\n",
       "      <td>1</td>\n",
       "      <td>0</td>\n",
       "      <td>0</td>\n",
       "      <td>+</td>\n",
       "    </tr>\n",
       "    <tr>\n",
       "      <th>3</th>\n",
       "      <td>27.83</td>\n",
       "      <td>1.540</td>\n",
       "      <td>3.75</td>\n",
       "      <td>5.0</td>\n",
       "      <td>100.0</td>\n",
       "      <td>3.0</td>\n",
       "      <td>0</td>\n",
       "      <td>1</td>\n",
       "      <td>0</td>\n",
       "      <td>1</td>\n",
       "      <td>...</td>\n",
       "      <td>0</td>\n",
       "      <td>1</td>\n",
       "      <td>0</td>\n",
       "      <td>1</td>\n",
       "      <td>0</td>\n",
       "      <td>1</td>\n",
       "      <td>1</td>\n",
       "      <td>0</td>\n",
       "      <td>0</td>\n",
       "      <td>+</td>\n",
       "    </tr>\n",
       "    <tr>\n",
       "      <th>4</th>\n",
       "      <td>20.17</td>\n",
       "      <td>5.625</td>\n",
       "      <td>1.71</td>\n",
       "      <td>0.0</td>\n",
       "      <td>120.0</td>\n",
       "      <td>0.0</td>\n",
       "      <td>0</td>\n",
       "      <td>1</td>\n",
       "      <td>0</td>\n",
       "      <td>1</td>\n",
       "      <td>...</td>\n",
       "      <td>0</td>\n",
       "      <td>1</td>\n",
       "      <td>1</td>\n",
       "      <td>0</td>\n",
       "      <td>1</td>\n",
       "      <td>0</td>\n",
       "      <td>0</td>\n",
       "      <td>0</td>\n",
       "      <td>1</td>\n",
       "      <td>+</td>\n",
       "    </tr>\n",
       "  </tbody>\n",
       "</table>\n",
       "<p>5 rows × 47 columns</p>\n",
       "</div>"
      ],
      "text/plain": [
       "      A2     A3    A8  A11    A14    A15  A1_a  A1_b  A4_l  A4_u  ...  A9_f  \\\n",
       "0  30.83  0.000  1.25  1.0  202.0    0.0     0     1     0     1  ...     0   \n",
       "1  58.67  4.460  3.04  6.0   43.0  560.0     1     0     0     1  ...     0   \n",
       "2  24.50  0.500  1.50  0.0  280.0  824.0     1     0     0     1  ...     0   \n",
       "3  27.83  1.540  3.75  5.0  100.0    3.0     0     1     0     1  ...     0   \n",
       "4  20.17  5.625  1.71  0.0  120.0    0.0     0     1     0     1  ...     0   \n",
       "\n",
       "   A9_t  A10_f  A10_t  A12_f  A12_t  A13_g  A13_p  A13_s  A16  \n",
       "0     1      0      1      1      0      1      0      0    +  \n",
       "1     1      0      1      1      0      1      0      0    +  \n",
       "2     1      1      0      1      0      1      0      0    +  \n",
       "3     1      0      1      0      1      1      0      0    +  \n",
       "4     1      1      0      1      0      0      0      1    +  \n",
       "\n",
       "[5 rows x 47 columns]"
      ]
     },
     "execution_count": 115,
     "metadata": {},
     "output_type": "execute_result"
    }
   ],
   "source": [
    "import pandas as pd\n",
    "import numpy as np \n",
    "credit = pd.read_pickle(\"Downloads/credit.pkl\")\n",
    "credit.head()"
   ]
  },
  {
   "cell_type": "code",
   "execution_count": 116,
   "metadata": {},
   "outputs": [],
   "source": [
    "from sklearn.model_selection import train_test_split\n",
    "variables = [x for x in credit.columns if x!='A16'] \n",
    "X = credit[variables] \n",
    "Y = credit['A16']\n",
    "X_train, X_test, Y_train, Y_test = train_test_split(X,Y,test_size=0.33, random_state=1998)"
   ]
  },
  {
   "cell_type": "markdown",
   "metadata": {},
   "source": [
    "La forêt aléatoire nécessite de certains paramètres. Nous allons utiliser un nombre maximum de 60 & une profondeur maximale de 6 noeuds. (données arbitrairement choisies)"
   ]
  },
  {
   "cell_type": "code",
   "execution_count": 117,
   "metadata": {},
   "outputs": [
    {
     "data": {
      "text/plain": [
       "RandomForestClassifier(bootstrap=True, class_weight=None, criterion='gini',\n",
       "                       max_depth=6, max_features=0.6, max_leaf_nodes=None,\n",
       "                       min_impurity_decrease=0.0, min_impurity_split=None,\n",
       "                       min_samples_leaf=1, min_samples_split=2,\n",
       "                       min_weight_fraction_leaf=0.0, n_estimators=60,\n",
       "                       n_jobs=None, oob_score=False, random_state=1998,\n",
       "                       verbose=0, warm_start=False)"
      ]
     },
     "execution_count": 117,
     "metadata": {},
     "output_type": "execute_result"
    }
   ],
   "source": [
    "from sklearn.ensemble import RandomForestClassifier\n",
    "clf = RandomForestClassifier(n_estimators=60,max_depth=6,\n",
    "                             max_features=0.6,random_state=1998) \n",
    "clf.fit(X_train,Y_train)"
   ]
  },
  {
   "cell_type": "code",
   "execution_count": 118,
   "metadata": {},
   "outputs": [],
   "source": [
    "Y_pred = clf.predict(X_test)"
   ]
  },
  {
   "cell_type": "markdown",
   "metadata": {},
   "source": [
    "On mesure la précision (accuracy), puis le score AUC à l'aide des métriques de sklearn:  "
   ]
  },
  {
   "cell_type": "code",
   "execution_count": 119,
   "metadata": {},
   "outputs": [
    {
     "data": {
      "text/plain": [
       "0.8657407407407407"
      ]
     },
     "execution_count": 119,
     "metadata": {},
     "output_type": "execute_result"
    }
   ],
   "source": [
    "from sklearn.metrics import accuracy_score \n",
    "accuracy_score(Y_test,Y_pred)"
   ]
  },
  {
   "cell_type": "code",
   "execution_count": 120,
   "metadata": {},
   "outputs": [
    {
     "data": {
      "text/plain": [
       "0.9190905190905191"
      ]
     },
     "execution_count": 120,
     "metadata": {},
     "output_type": "execute_result"
    }
   ],
   "source": [
    "from sklearn.metrics import roc_auc_score \n",
    "roc_auc_score(Y_test,clf.predict_proba(X_test)[:,1])"
   ]
  },
  {
   "cell_type": "markdown",
   "metadata": {},
   "source": [
    "La matrice de confusion est telle: "
   ]
  },
  {
   "cell_type": "code",
   "execution_count": 161,
   "metadata": {},
   "outputs": [
    {
     "data": {
      "text/plain": [
       "array([[89, 16],\n",
       "       [13, 98]], dtype=int64)"
      ]
     },
     "execution_count": 161,
     "metadata": {},
     "output_type": "execute_result"
    }
   ],
   "source": [
    "from sklearn.metrics import confusion_matrix\n",
    "confusion_matrix(Y_test,clf.predict(X_test))"
   ]
  },
  {
   "cell_type": "markdown",
   "metadata": {},
   "source": [
    "Par souci de clarté, nous allons l'afficher d'une meilleure manière (plus agréable à voir..)"
   ]
  },
  {
   "cell_type": "code",
   "execution_count": 162,
   "metadata": {},
   "outputs": [
    {
     "data": {
      "text/plain": [
       "<matplotlib.axes._subplots.AxesSubplot at 0x1f75a085b70>"
      ]
     },
     "execution_count": 162,
     "metadata": {},
     "output_type": "execute_result"
    },
    {
     "data": {
      "image/png": "[encoded data removed]",
      "text/plain": [
       "<Figure size 432x288 with 2 Axes>"
      ]
     },
     "metadata": {
      "needs_background": "light"
     },
     "output_type": "display_data"
    }
   ],
   "source": [
    "import seaborn as sns\n",
    "\n",
    "data = {'Actual':    Y_test,\n",
    "        'Predicted': clf.predict(X_test)\n",
    "        }\n",
    "df = pd.DataFrame(data, columns=['Actual','Predicted'])\n",
    "confmat = pd.crosstab(df['Actual'], df['Predicted'], rownames=['Actual'], colnames=['Predicted'])\n",
    "\n",
    "sns.heatmap(confmat, annot=True)\n"
   ]
  },
  {
   "cell_type": "markdown",
   "metadata": {},
   "source": [
    "On va maintenant tracer la courbe ROC. Pour ce faire, il faudra d'abord remplacer la colonne cible par une variable indicatrice. Le '+' et '-' ne seront pas reconnus sinon:"
   ]
  },
  {
   "cell_type": "code",
   "execution_count": 135,
   "metadata": {},
   "outputs": [
    {
     "data": {
      "text/plain": [
       "<matplotlib.legend.Legend at 0x1f758b222e8>"
      ]
     },
     "execution_count": 135,
     "metadata": {},
     "output_type": "execute_result"
    },
    {
     "data": {
      "image/png": "[encoded data removed]",
      "text/plain": [
       "<Figure size 432x288 with 1 Axes>"
      ]
     },
     "metadata": {
      "needs_background": "light"
     },
     "output_type": "display_data"
    }
   ],
   "source": [
    "from sklearn.metrics import roc_curve, auc\n",
    "import matplotlib.pyplot as plt\n",
    "\n",
    "\n",
    "####### On change la target column\n",
    "creditbis = credit.copy()\n",
    "creditbis['y'] = np.where(creditbis['A16']=='+', '1', '0')\n",
    "creditbis = creditbis.drop(columns = ['A16'])\n",
    "variables = [x for x in creditbis.columns if x!='y'] \n",
    "Xb = creditbis[variables] \n",
    "Yb = creditbis['y']\n",
    "Xb_train, Xb_test, Yb_train, Yb_test = train_test_split(Xb,Yb,test_size=0.33, random_state=1998)\n",
    "Yb_test = '1' <= Yb_test #on remplace par des booléens\n",
    "clf2 = RandomForestClassifier(n_estimators=60,max_depth=6,\n",
    "                             max_features=0.6,random_state=1998) \n",
    "clf2.fit(Xb_train,Yb_train)\n",
    "\n",
    "######## Courbe ROC\n",
    "fpr, tpr, threshold = roc_curve(Yb_test,clf2.predict_proba(Xb_test)[:,1])\n",
    "auc(fpr,tpr)\n",
    "plt.plot(fpr,tpr,label=\"roc curve, auc:\"+str(auc(fpr,tpr)))\n",
    "plt.plot([0,1],[0,1],color='orange',linestyle='--')\n",
    "plt.ylabel(\"tpr\")\n",
    "plt.xlabel(\"fpr\")\n",
    "plt.legend(loc=4)\n"
   ]
  },
  {
   "cell_type": "markdown",
   "metadata": {},
   "source": [
    "La courbe ROC monte plutôt rapidement. \n"
   ]
  },
  {
   "cell_type": "markdown",
   "metadata": {},
   "source": [
    "Nous allons enfin lancer une Cross Validation pour trouver les meilleurs paramètres, et ensuite lancer une dernière classification avec ceux-ci: "
   ]
  },
  {
   "cell_type": "code",
   "execution_count": null,
   "metadata": {},
   "outputs": [],
   "source": [
    "from sklearn.model_selection import GridSearchCV\n",
    "parameters = {'n_estimators':list(range(3,20)),\n",
    "              'max_depth':list(range(3,10)),\n",
    "              'max_features':list(range(5,20)),\n",
    "              'criterion':['gini','entropy']}\n",
    "from sklearn.ensemble import RandomForestClassifier\n",
    "rdf = RandomForestClassifier()\n",
    "clf = GridSearchCV(rdf, parameters,scoring='roc_auc')\n",
    "clf.fit(X_train,Y_train)"
   ]
  },
  {
   "cell_type": "code",
   "execution_count": 85,
   "metadata": {},
   "outputs": [
    {
     "name": "stdout",
     "output_type": "stream",
     "text": [
      "{'criterion': 'gini', 'max_depth': 5, 'max_features': 11, 'n_estimators': 13}\n",
      "RandomForestClassifier(bootstrap=True, class_weight=None, criterion='gini',\n",
      "                       max_depth=5, max_features=11, max_leaf_nodes=None,\n",
      "                       min_impurity_decrease=0.0, min_impurity_split=None,\n",
      "                       min_samples_leaf=1, min_samples_split=2,\n",
      "                       min_weight_fraction_leaf=0.0, n_estimators=13,\n",
      "                       n_jobs=None, oob_score=False, random_state=None,\n",
      "                       verbose=0, warm_start=False)\n",
      "0.9552199291862566\n"
     ]
    }
   ],
   "source": [
    "print(clf.best_params_)\n",
    "print(clf.best_estimator_)\n",
    "print(clf.best_score_)"
   ]
  },
  {
   "cell_type": "code",
   "execution_count": 101,
   "metadata": {},
   "outputs": [
    {
     "data": {
      "text/plain": [
       "0.8611111111111112"
      ]
     },
     "execution_count": 101,
     "metadata": {},
     "output_type": "execute_result"
    }
   ],
   "source": [
    "clnew = RandomForestClassifier(n_estimators=13,max_depth=5,\n",
    "                             max_features=11, criterion = 'gini', \n",
    "                               random_state=1998) \n",
    "clnew.fit(X_train,Y_train)\n",
    "Y_pred = clnew.predict(X_test)\n",
    "accuracy_score(Y_test,Y_pred)"
   ]
  },
  {
   "cell_type": "markdown",
   "metadata": {},
   "source": [
    "On voit bien que l'accuracy a augmenté, tout comme le score ROC. "
   ]
  },
  {
   "cell_type": "markdown",
   "metadata": {},
   "source": [
    " "
   ]
  },
  {
   "cell_type": "markdown",
   "metadata": {},
   "source": [
    "#### Exercice 2"
   ]
  },
  {
   "cell_type": "markdown",
   "metadata": {},
   "source": [
    "En utilisant le même jeu de données, nous allons à présent faire un Gradient Boosting, technique de plus en plus utilisée et mathématiquement plus complexe. Nous avons pas besoin de re-organiser les données, donc on peut immédiatement lancer la phase d'apprentissage, puis tester:  "
   ]
  },
  {
   "cell_type": "code",
   "execution_count": 157,
   "metadata": {},
   "outputs": [
    {
     "data": {
      "text/plain": [
       "GradientBoostingClassifier(criterion='friedman_mse', init=None,\n",
       "                           learning_rate=0.1, loss='deviance', max_depth=3,\n",
       "                           max_features=None, max_leaf_nodes=None,\n",
       "                           min_impurity_decrease=0.0, min_impurity_split=None,\n",
       "                           min_samples_leaf=1, min_samples_split=2,\n",
       "                           min_weight_fraction_leaf=0.0, n_estimators=100,\n",
       "                           n_iter_no_change=None, presort='auto',\n",
       "                           random_state=1998, subsample=1.0, tol=0.0001,\n",
       "                           validation_fraction=0.1, verbose=0,\n",
       "                           warm_start=False)"
      ]
     },
     "execution_count": 157,
     "metadata": {},
     "output_type": "execute_result"
    }
   ],
   "source": [
    "from sklearn.ensemble import GradientBoostingClassifier\n",
    "gbc = GradientBoostingClassifier(loss='deviance', learning_rate=0.1, n_estimators=100,\n",
    "                                 max_depth=3, random_state=1998)\n",
    "gbc.fit(X_train, Y_train)"
   ]
  },
  {
   "cell_type": "markdown",
   "metadata": {},
   "source": [
    "On va tester ce modèle avec les ensembles de test, en calculant la précision puis le score AUC: "
   ]
  },
  {
   "cell_type": "code",
   "execution_count": 158,
   "metadata": {},
   "outputs": [
    {
     "name": "stdout",
     "output_type": "stream",
     "text": [
      "accuracy = 0.8333333333333334\n",
      "AUC = 0.9151437151437152\n"
     ]
    }
   ],
   "source": [
    "print('accuracy =', accuracy_score(Y_test,gbc.predict(X_test)))\n",
    "print('AUC =', roc_auc_score(Y_test,gbc.predict_proba(X_test)[:,1]))"
   ]
  },
  {
   "cell_type": "markdown",
   "metadata": {},
   "source": [
    "Comme souvent, on voit que la Random Forest est plus efficace et précise, toutefois, le temps de calcul a été réduit. "
   ]
  },
  {
   "cell_type": "markdown",
   "metadata": {},
   "source": [
    "Une nouvelle fois, nous allons tracer la courbe ROC: "
   ]
  },
  {
   "cell_type": "code",
   "execution_count": 159,
   "metadata": {},
   "outputs": [
    {
     "data": {
      "text/plain": [
       "<matplotlib.legend.Legend at 0x1f75a025ac8>"
      ]
     },
     "execution_count": 159,
     "metadata": {},
     "output_type": "execute_result"
    },
    {
     "data": {
      "image/png": "[encoded data removed]",
      "text/plain": [
       "<Figure size 432x288 with 1 Axes>"
      ]
     },
     "metadata": {
      "needs_background": "light"
     },
     "output_type": "display_data"
    }
   ],
   "source": [
    "gbc2 =  GradientBoostingClassifier(loss='deviance', learning_rate=0.1, n_estimators=100,\n",
    "                                 max_depth=3, random_state=1998)\n",
    "gbc2.fit(Xb_train,Yb_train)\n",
    "\n",
    "# Courbe ROC\n",
    "fpr, tpr, threshold = roc_curve(Yb_test,gbc2.predict_proba(Xb_test)[:,1])\n",
    "auc(fpr,tpr)\n",
    "plt.plot(fpr,tpr,label=\"roc curve, auc:\"+str(auc(fpr,tpr)))\n",
    "plt.plot([0,1],[0,1],color='orange',linestyle='--')\n",
    "plt.ylabel(\"tpr\")\n",
    "plt.xlabel(\"fpr\")\n",
    "plt.legend(loc=4)"
   ]
  },
  {
   "cell_type": "markdown",
   "metadata": {},
   "source": [
    "On observe que la courbe ROC de la Forêt Aléatoire aurait été positionnée vers le haut/gauche de celle-ci, donc la Gradient Boosting a été moins précis en général. "
   ]
  },
  {
   "cell_type": "markdown",
   "metadata": {},
   "source": [
    "La matrice de confusion est telle: "
   ]
  },
  {
   "cell_type": "code",
   "execution_count": 163,
   "metadata": {},
   "outputs": [
    {
     "data": {
      "text/plain": [
       "array([[84, 21],\n",
       "       [15, 96]], dtype=int64)"
      ]
     },
     "execution_count": 163,
     "metadata": {},
     "output_type": "execute_result"
    }
   ],
   "source": [
    "confusion_matrix(Y_test,gbc.predict(X_test))"
   ]
  },
  {
   "cell_type": "code",
   "execution_count": 164,
   "metadata": {},
   "outputs": [
    {
     "data": {
      "text/plain": [
       "<matplotlib.axes._subplots.AxesSubplot at 0x1f75a12e198>"
      ]
     },
     "execution_count": 164,
     "metadata": {},
     "output_type": "execute_result"
    },
    {
     "data": {
      "image/png": "[encoded data removed]",
      "text/plain": [
       "<Figure size 432x288 with 2 Axes>"
      ]
     },
     "metadata": {
      "needs_background": "light"
     },
     "output_type": "display_data"
    }
   ],
   "source": [
    "data = {'Actual':    Y_test,\n",
    "        'Predicted': gbc.predict(X_test)\n",
    "        }\n",
    "df = pd.DataFrame(data, columns=['Actual','Predicted'])\n",
    "confmat = pd.crosstab(df['Actual'], df['Predicted'], rownames=['Actual'], colnames=['Predicted'])\n",
    "\n",
    "sns.heatmap(confmat, annot=True)\n"
   ]
  },
  {
   "cell_type": "markdown",
   "metadata": {},
   "source": [
    "Les deux algorithmes auraient été quasiment équivalents, mais le Gradient Boosting fait plus d'erreurs lorsque la variable cible est un '+'. "
   ]
  },
  {
   "cell_type": "markdown",
   "metadata": {},
   "source": [
    "Nous allons lancer une Validation Croisée afin de trouver les meilleurs paramètres. Attention, cette étape prend du temps.."
   ]
  },
  {
   "cell_type": "code",
   "execution_count": 165,
   "metadata": {},
   "outputs": [
    {
     "name": "stderr",
     "output_type": "stream",
     "text": [
      "C:\\Users\\Akhilesh\\Anaconda3\\lib\\site-packages\\sklearn\\model_selection\\_split.py:1978: FutureWarning: The default value of cv will change from 3 to 5 in version 0.22. Specify it explicitly to silence this warning.\n",
      "  warnings.warn(CV_WARNING, FutureWarning)\n"
     ]
    },
    {
     "data": {
      "text/plain": [
       "GridSearchCV(cv='warn', error_score='raise-deprecating',\n",
       "             estimator=GradientBoostingClassifier(criterion='friedman_mse',\n",
       "                                                  init=None, learning_rate=0.1,\n",
       "                                                  loss='deviance', max_depth=3,\n",
       "                                                  max_features=None,\n",
       "                                                  max_leaf_nodes=None,\n",
       "                                                  min_impurity_decrease=0.0,\n",
       "                                                  min_impurity_split=None,\n",
       "                                                  min_samples_leaf=1,\n",
       "                                                  min_samples_split=2,\n",
       "                                                  min_weight_fraction_leaf=0.0,\n",
       "                                                  n_estimators=100,\n",
       "                                                  n_it...\n",
       "                                                  verbose=0, warm_start=False),\n",
       "             iid='warn', n_jobs=None,\n",
       "             param_grid={'learning_rate': [0.1],\n",
       "                         'loss': ['deviance', 'exponential'],\n",
       "                         'max_depth': [3, 4, 5, 6, 7],\n",
       "                         'n_estimators': [80, 81, 82, 83, 84, 85, 86, 87, 88,\n",
       "                                          89, 90, 91, 92, 93, 94, 95, 96, 97,\n",
       "                                          98, 99, 100, 101, 102, 103, 104, 105,\n",
       "                                          106, 107, 108, 109, ...]},\n",
       "             pre_dispatch='2*n_jobs', refit=True, return_train_score=False,\n",
       "             scoring='roc_auc', verbose=0)"
      ]
     },
     "execution_count": 165,
     "metadata": {},
     "output_type": "execute_result"
    }
   ],
   "source": [
    "parameters = {'n_estimators':list(range(80,260)), 'max_depth':list(range(3,8)),\n",
    "              'loss':['deviance','exponential'], \n",
    "              'learning_rate': [0.1]}\n",
    "from sklearn.ensemble import GradientBoostingClassifier\n",
    "gbt = GradientBoostingClassifier()\n",
    "gbc = GridSearchCV(gbt, parameters,scoring='roc_auc')\n",
    "gbc.fit(X_train,Y_train)"
   ]
  },
  {
   "cell_type": "code",
   "execution_count": 166,
   "metadata": {},
   "outputs": [
    {
     "name": "stdout",
     "output_type": "stream",
     "text": [
      "0.9474981943857522\n"
     ]
    }
   ],
   "source": [
    "print(gbc.best_score_)"
   ]
  },
  {
   "cell_type": "markdown",
   "metadata": {},
   "source": [
    " "
   ]
  },
  {
   "cell_type": "markdown",
   "metadata": {},
   "source": [
    " "
   ]
  }
 ],
 "metadata": {
  "kernelspec": {
   "display_name": "Python 3",
   "language": "python",
   "name": "python3"
  },
  "language_info": {
   "codemirror_mode": {
    "name": "ipython",
    "version": 3
   },
   "file_extension": ".py",
   "mimetype": "text/x-python",
   "name": "python",
   "nbconvert_exporter": "python",
   "pygments_lexer": "ipython3",
   "version": "3.7.3"
  }
 },
 "nbformat": 4,
 "nbformat_minor": 2
}
